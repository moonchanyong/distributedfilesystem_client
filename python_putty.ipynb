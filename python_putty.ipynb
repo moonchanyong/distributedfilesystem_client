{
 "cells": [
  {
   "cell_type": "code",
   "execution_count": 15,
   "metadata": {},
   "outputs": [],
   "source": [
    "import socket\n",
    "import sys\n",
    "import time\n",
    "import datetime\n",
    "import sys\n",
    "import asyncio\n",
    "from threading import Thread\n",
    "import codecs\n",
    "\n"
   ]
  },
  {
   "cell_type": "code",
   "execution_count": 16,
   "metadata": {},
   "outputs": [
    {
     "ename": "gaierror",
     "evalue": "[Errno 11001] getaddrinfo failed",
     "output_type": "error",
     "traceback": [
      "\u001b[1;31m---------------------------------------------------------------------------\u001b[0m",
      "\u001b[1;31mgaierror\u001b[0m                                  Traceback (most recent call last)",
      "\u001b[1;32m<ipython-input-16-842f850f0fa0>\u001b[0m in \u001b[0;36m<module>\u001b[1;34m()\u001b[0m\n\u001b[1;32m----> 1\u001b[1;33m \u001b[0mprint\u001b[0m \u001b[1;33m(\u001b[0m\u001b[0msocket\u001b[0m\u001b[1;33m.\u001b[0m\u001b[0mgethostbyname\u001b[0m\u001b[1;33m(\u001b[0m\u001b[1;34m'dry-hollows-74138.herokuapp.com'\u001b[0m\u001b[1;33m)\u001b[0m\u001b[1;33m)\u001b[0m\u001b[1;33m\u001b[0m\u001b[0m\n\u001b[0m",
      "\u001b[1;31mgaierror\u001b[0m: [Errno 11001] getaddrinfo failed"
     ]
    }
   ],
   "source": [
    "print (socket.gethostbyname('dry-hollows-74138.herokuapp.com'))"
   ]
  },
  {
   "cell_type": "code",
   "execution_count": 19,
   "metadata": {},
   "outputs": [
    {
     "name": "stdout",
     "output_type": "stream",
     "text": [
      ":hi\n",
      "hi\n",
      ":ls\n",
      "dirname : 2011024030 creation :Mon Dec 11 2017 15:09:13 GMT+0900 (대한민국 표준시)\n",
      "\n",
      "dirname : 201120430 creation :Mon Dec 11 2017 15:09:13 GMT+0900 (대한민국 표준시)\n",
      "filename : sample_data_a.txt size : 1853 creation :Mon Dec 11 2017 15:09:13 GMT+0900 (대한민국 표준시)\n",
      "filename : sample_data_b.txt size : 3518 creation :Mon Dec 11 2017 15:09:13 GMT+0900 (대한민국 표준시)\n",
      "filename : sample_data_c.txt size : 2247 creation :Mon Dec 11 2017 15:09:13 GMT+0900 (대한민국 표준시)\n",
      "filename : sample_data_d.txt size : 3661 creation :Mon Dec 11 2017 15:09:13 GMT+0900 (대한민국 표준시)\n",
      "dirname : ss creation :Mon Dec 11 2017 15:09:13 GMT+0900 (대한민국 표준시)\n",
      "filename : testdata.txt size : 275 creation :Mon Dec 11 2017 15:09:13 GMT+0900 (대한민국 표준시)\n",
      "filename : 이것은 size : 40 creation :Mon Dec 11 2017 15:09:13 GMT+0900 (대한민국 표준시)\n",
      "\n",
      ":ls\n",
      "dirname : 2011024030 creation :Mon Dec 11 2017 15:09:13 GMT+0900 (대한민국 표준시)\n",
      "\n",
      "dirname : 201120430 creation :Mon Dec 11 2017 15:09:13 GMT+0900 (대한민국 표준시)\n",
      "filename : sample_data_a.txt size : 1853 creation :Mon Dec 11 2017 15:09:13 GMT+0900 (대한민국 표준시)\n",
      "filename : sample_data_b.txt size : 3518 creation :Mon Dec 11 2017 15:09:13 GMT+0900 (대한민국 표준시)\n",
      "filename : sample_data_c.txt size : 2247 creation :Mon Dec 11 2017 15:09:13 GMT+0900 (대한민국 표준시)\n",
      "filename : sample_data_d.txt size : 3661 creation :Mon Dec 11 2017 15:09:13 GMT+0900 (대한민국 표준시)\n",
      "dirname : ss creation :Mon Dec 11 2017 15:09:13 GMT+0900 (대한민국 표준시)\n",
      "filename : testdata.txt size : 275 creation :Mon Dec 11 2017 15:09:13 GMT+0900 (대한민국 표준시)\n",
      "filename : 이것은 size : 40 creation :Mon Dec 11 2017 15:09:13 GMT+0900 (대한민국 표준시)\n",
      "\n",
      ":ls\n",
      "dirname : 2011024030 creation :Mon Dec 11 2017 15:09:13 GMT+0900 (대한민국 표준시)\n",
      "\n",
      "dirname : 201120430 creation :Mon Dec 11 2017 15:09:13 GMT+0900 (대한민국 표준시)\n",
      "filename : sample_data_a.txt size : 1853 creation :Mon Dec 11 2017 15:09:13 GMT+0900 (대한민국 표준시)\n",
      "filename : sample_data_b.txt size : 3518 creation :Mon Dec 11 2017 15:09:13 GMT+0900 (대한민국 표준시)\n",
      "filename : sample_data_c.txt size : 2247 creation :Mon Dec 11 2017 15:09:13 GMT+0900 (대한민국 표준시)\n",
      "filename : sample_data_d.txt size : 3661 creation :Mon Dec 11 2017 15:09:13 GMT+0900 (대한민국 표준시)\n",
      "dirname : ss creation :Mon Dec 11 2017 15:09:13 GMT+0900 (대한민국 표준시)\n",
      "filename : testdata.txt size : 275 creation :Mon Dec 11 2017 15:09:13 GMT+0900 (대한민국 표준시)\n",
      "filename : 이것은 size : 40 creation :Mon Dec 11 2017 15:09:13 GMT+0900 (대한민국 표준시)\n",
      "\n",
      ":cat_write testdata.txt 아마아이이아ㅏ\n",
      ":cat_read testdata.txt\n",
      "﻿이것은 testdata!!!이것은 testdata!!!\n",
      "이것은 testdata!!!\n",
      "이것은 testdata!!!\n",
      "\n",
      "이것은 testdata!!!이것은 testdata!!!이것은 testdata!!!\n",
      "이것은 testdata!!!이것은 testdata!!!\n",
      "이것은 testdata!!!이것은 체크하기 위한 테스트 텍스트 아마아이이아ㅏ \n",
      ":xit\n",
      "xit\n",
      ":exit\n",
      "[WinError 10053] 현재 연결은 사용자의 호스트 시스템의 소프트웨어의 의해 중단되었습니다\n"
     ]
    }
   ],
   "source": [
    "# -*- coding: utf8 -*-\n",
    "sock = socket.socket(socket.AF_INET, socket.SOCK_STREAM)\n",
    "\"\"\"sock.settimeout(2)\"\"\"\n",
    "server_address = ('192.168.0.147', 8080)\n",
    "sock.connect(server_address)\n",
    "\"\"\"sock.sendall(\"start\".encode())\"\"\"\n",
    "\n",
    "\n",
    "\n",
    "def recive():\n",
    "    \"\"\"f = open(\"./Result_문찬용김재영.txt\", 'w')\"\"\"\n",
    "    with open('./Result_문찬용김재영.txt', 'w', encoding='UTF-8', newline='') as f:\n",
    "    \n",
    "\n",
    "        while True:        \n",
    "            try:\n",
    "                msg = sock.recv(4096)\n",
    "            except socket.timeout as e:\n",
    "                err = e.args[0]\n",
    "        # this next if/else is a bit redundant, but illustrates how the\n",
    "        # timeout exception is setup\n",
    "                if err == 'timed out':\n",
    "                    print ('recv timed out, retry later')\n",
    "                    continue\n",
    "                else:\n",
    "                    print (e)\n",
    "                    sys.exit(1)\n",
    "            except socket.error as e:\n",
    "        # Something else happened, handle error, exit, etc.\n",
    "                print (e)\n",
    "                sys.exit(1)\n",
    "            else:\n",
    "                if len(msg) == 0:\n",
    "                    print( 'orderly shutdown on server end')\n",
    "                    sys.exit(0)\n",
    "                else:                \n",
    "                    print(msg.decode())\n",
    "                    f.write(msg.decode())\n",
    "    \n",
    "\n",
    "\n",
    "\n",
    "def main():\n",
    "    t = Thread(target=recive)\n",
    "    t. start()\n",
    "    while True:            \n",
    "        veri=input(':')\n",
    "        if veri == 'exit':            \n",
    "            sock.close()            \n",
    "            break;     \n",
    "        sock.sendall(veri.encode())\n",
    "    \n",
    "\n",
    "if __name__ == '__main__':\n",
    "    main()\n",
    "        \n"
   ]
  },
  {
   "cell_type": "code",
   "execution_count": null,
   "metadata": {
    "collapsed": true
   },
   "outputs": [],
   "source": [
    "cat_read testdata.txt"
   ]
  },
  {
   "cell_type": "code",
   "execution_count": null,
   "metadata": {
    "collapsed": true
   },
   "outputs": [],
   "source": []
  }
 ],
 "metadata": {
  "kernelspec": {
   "display_name": "Python 3",
   "language": "python",
   "name": "python3"
  },
  "language_info": {
   "codemirror_mode": {
    "name": "ipython",
    "version": 3
   },
   "file_extension": ".py",
   "mimetype": "text/x-python",
   "name": "python",
   "nbconvert_exporter": "python",
   "pygments_lexer": "ipython3",
   "version": "3.6.1"
  }
 },
 "nbformat": 4,
 "nbformat_minor": 2
}
